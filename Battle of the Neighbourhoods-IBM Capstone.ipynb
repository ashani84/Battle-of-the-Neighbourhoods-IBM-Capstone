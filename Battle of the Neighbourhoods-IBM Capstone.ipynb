{
 "cells": [
  {
   "cell_type": "markdown",
   "metadata": {
    "collapsed": true
   },
   "source": [
    "# Applied Data Science Capstone- Battle of the Neighbourhoods"
   ]
  },
  {
   "cell_type": "markdown",
   "metadata": {
    "collapsed": true
   },
   "source": [
    "### Analyzing the Neighbourhoods of Illembe District"
   ]
  },
  {
   "cell_type": "markdown",
   "metadata": {
    "collapsed": true
   },
   "source": [
    "#### Introduction/ Business Problem:\n",
    "In light of the recent pandemic , remote working has become the norm for most jobs, thus giving people an option to move further away from the office. We have seen a trend where people are moving away from major Provinces to Coastal towns.\n",
    "\n",
    "I am currently living in the Illembe district,along the north east coast of South Africa. The diverse culture, beaches and beautiful weather,  have always made the most popular holiday destination, however the job opportunities have been scarce on account of major firms being located in the Gauteng province.  there have been major developments and an influx of the population relocating here in recent years and remote working will add to the influx of residents from other provinces.\n",
    "\n",
    "This project is for those people who are looking for better neighbourhoods. For ease of accessing to Cafe, School, Supermarket, medical shops, grocery shops, mall, theatre, hospital, like-minded people, etc..\n"
   ]
  },
  {
   "cell_type": "markdown",
   "metadata": {
    "collapsed": true
   },
   "source": [
    "#### Data\n",
    "The dataset for this project consists of information regarding the Illembe District obtained from http://www.geonames.org/search.html?q=kwadukuza&country=ZA. The Foursquare API was be used to collect venues near the neighbourhoods for cluster analysis to be performed on the data. The data contains the details of City Name, Feature Class, Latitude, Longitude, Source, District Name, Province Name.\n",
    "\n",
    "We will need data about different venues in different neighborhoods of that specific area. In order to gain that information we will use \"Foursquare\" locational information. Foursquare is a location data provider with information about all manner of venues and events within an area of interest. Such information includes venue names, locations, menus and even photos. As such, the foursquare location platform will be used as the sole data source since all the stated required information can be obtained through the API.\n",
    "The data retrieved from Foursquare contained information of venues within a specified distance of the longitude and latitude of the postcodes. The information obtained per venue as follows:\n",
    "\n",
    "Neighborhood\n",
    "Neighborhood Latitude\n",
    "Neighborhood Longitude\n",
    "Venue\n",
    "Name of the venue e.g. the name of a store or restaurant\n",
    "Venue Latitude\n",
    "Venue Longitude\n",
    "Venue Category"
   ]
  },
  {
   "cell_type": "code",
   "execution_count": null,
   "metadata": {},
   "outputs": [],
   "source": []
  }
 ],
 "metadata": {
  "kernelspec": {
   "display_name": "Python 3.7",
   "language": "python",
   "name": "python3"
  },
  "language_info": {
   "codemirror_mode": {
    "name": "ipython",
    "version": 3
   },
   "file_extension": ".py",
   "mimetype": "text/x-python",
   "name": "python",
   "nbconvert_exporter": "python",
   "pygments_lexer": "ipython3",
   "version": "3.7.10"
  }
 },
 "nbformat": 4,
 "nbformat_minor": 1
}
